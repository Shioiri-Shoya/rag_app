{
 "cells": [
  {
   "cell_type": "markdown",
   "metadata": {},
   "source": [
    "#  AI・機械学習 応用 ステップ\n",
    "\n",
    "## 生成AIを用いたチャットボット構築 〜RAGシステム〜"
   ]
  },
  {
   "cell_type": "markdown",
   "metadata": {},
   "source": [
    "## 記事カテゴリ予測モデルのWebアプリケーション構築\n",
    "### 以下の問題を解きなさい。\n",
    "「AI・機械学習 応用 ステップ Webスクレイピング 〜スクレイピングとコンテンツマッチ〜」のプロジェクトに関して、一般ユーザーに対して、どんなニュース内容があるかどうかを気軽に聞けるようなAIチャットボット機能を搭載することになりました。\\\n",
    "実際にはWebエンジニアチームに正式な実装を依頼することになりましたが、そもそもAIチャットボットの精度が担保されるかどうかを他のメンバーがチェックできるようにするために、簡単なAIチャットボットのプロトタイプという位置付けのWebアプリケーションを構築する必要が生じております。\n",
    "\n",
    "#### アプリケーションの要件\n",
    "Webスクレイピングで収集したニュースデータのテキスト情報を対象データとして、生成AI技術も活用し、ニュース記事に関する質問ができるAIチャットボットの構築を行っていただきます。これらを実現させるためには、以下のような技術が必要となります。\\\n",
    "- 対象データをテキスト解析し、ベクトルデータとして保管する。\n",
    "- StreamlitによるチャットボットWebアプリケーションを実装する。\n",
    "- 何かしらの質問に対して、関連する情報を引き当てて、生成AIによって返答文章をチャットボット上で返却する。\n",
    "- （出来上がったアプリケーションをクラウド＝Streamlit Cloud上にデプロイする）\n",
    "特に3点目の技術では、LLMをベースに、より正確で信頼性の高い回答を提供する\n",
    "**「RAG（Retrieval-Augmented Generation）」**\n",
    "という手法を活用することが多いです。\\\n",
    "ですので、RAGのやり方・アルゴリズムを理解した上で、AIチャットボットが構築できるようにしていきましょう。\\\n",
    "また、1点目のテキストデータの解析では、これまで自然言語処理やレコメンデーションの課題で学んだ内容を活かすことができます。テキスト文章をベクトル化するにはいくつかのやり方が存在しますが、演習課題を解きながら、それらのやり方を学んでいきましょう。\\\n",
    "本課題は、Streamlit Cloudへのデプロイ先URLも提出時に一緒に追記していただく形を、提出ゴールといたします。\\\n",
    "（どうしてもCloudへデプロイできない人はご相談ください。ひとまずローカル上で構築したコードを提出いただき、ポートフォリオ作成後に、Cloudデプロイに挑戦するという流れをご案内いたします。）\n",
    "\n",
    "\n",
    "#### 実装の概要\n",
    "Streamlitは、PythonスクリプトのみでWebアプリケーションを構築できるため、HTMLやJavaScriptのコーディングは不要です。そのため、今回の演習ではFlaskなどを使用せず、Streamlitを活用してシンプルに実装します。\n",
    "\n",
    "#### 必要な機能\n",
    "以下の機能をメインスクリプト（app.py）に実装します。\n",
    "\n",
    "#### アプリケーションの実行と確認\n",
    "\n",
    "- streamlit run app.py コマンドを使用してローカル環境で実行します。\n",
    "- st.write() などを活用し、出力結果を整理して表示します。\n",
    "\n",
    "#### 実行の確認方法\n",
    "ローカル環境で以下のコマンドを実行し、ブラウザでアプリを確認してください。\n",
    "\n",
    "```bash\n",
    "streamlit run app.py\n",
    "```\n",
    "\n",
    "（以下のようなメッセージが表示されるはず）\n",
    "```\n",
    "  You can now view your Streamlit app in your browser.\n",
    "  Network URL: http://xxx.xxx.xxx.xxx:8501\n",
    "```\n",
    "\n",
    "#### 提出方法\n",
    "- 実装が完了したら、Google Classroomに記載された方法の通りに提出してください。\n",
    "\n",
    "Streamlitを活用することで、簡単にインタラクティブなWebアプリを構築できます。/\n",
    "テキスト文章をベクトル化の流れを整理しながら、実装を進めていきましょう！"
   ]
  },
  {
   "cell_type": "markdown",
   "metadata": {},
   "source": [
    "---------"
   ]
  },
  {
   "cell_type": "markdown",
   "metadata": {},
   "source": [
    "#### ＜データのダウンロード＞\n",
    "\n",
    "以下のリンクをクリックすることで使用データをダウンロードできます。\n",
    "- [Download dataset](https://drive.google.com/file/d/146ukNesXoLjjpd7WYb6oCZiFINIuF1XV/view?usp=sharing)\n",
    "\n",
    "ダウンロード後に、zipファイルを解凍し、yahoo_news_articles_preprocessed.csvを下記ディレクトリ（app.pyと同階層）に配置してください\n",
    "\n",
    "---- app.py\\\n",
    "---- requirements.txt\\\n",
    "---- yahoo_news_articles_preprocessed.csv"
   ]
  }
 ],
 "metadata": {
  "kernelspec": {
   "display_name": "Python 3.9.7 ('ds_training_contents')",
   "language": "python",
   "name": "python3"
  },
  "language_info": {
   "codemirror_mode": {
    "name": "ipython",
    "version": 3
   },
   "file_extension": ".py",
   "mimetype": "text/x-python",
   "name": "python",
   "nbconvert_exporter": "python",
   "pygments_lexer": "ipython3",
   "version": "3.9.7"
  },
  "vscode": {
   "interpreter": {
    "hash": "98b76a378bbd8160f805660f481f2d9a22672cbfc3c3e047b97ffc30251319a4"
   }
  }
 },
 "nbformat": 4,
 "nbformat_minor": 2
}
